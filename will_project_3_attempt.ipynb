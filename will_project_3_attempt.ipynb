{
 "cells": [
  {
   "cell_type": "markdown",
   "id": "55472801",
   "metadata": {},
   "source": [
    "## Project 3 - Will Berritt, Shafya Nadour, Jonathan Burns"
   ]
  },
  {
   "cell_type": "code",
   "execution_count": null,
   "id": "9e7c5976-5b5e-4119-a923-67b6e0b94bba",
   "metadata": {},
   "outputs": [],
   "source": [
    "import nltk\n",
    "from nltk.corpus import names\n",
    "import random\n",
    "import pandas as pd\n",
    "# Download names corpus if not already downloaded\n",
    "nltk.download('names')\n",
    "\n",
    "# Load and shuffle the names corpus\n",
    "names = [(name, 'male') for name in names.words('male.txt')] + [(name, 'female') for name in names.words('female.txt')]\n",
    "random.shuffle(names)\n",
    "\n",
    "# Feature extraction function\n",
    "def gender_features(name):\n",
    "    return {\n",
    "        'last_letter': name[-1],\n",
    "        'last_two_letters': name[-2:],\n",
    "        'first_two_letters': name[:2],\n",
    "        'first_letter': name[0],\n",
    "        'name_length': len(name),\n",
    "        'vowel_count': sum(1 for char in name if char in 'aeiouAEIOU'),\n",
    "        'consonant_count': sum(1 for char in name if char not in 'aeiouAEIOU'),\n",
    "        'a_count': name.lower().count('a'),\n",
    "        'e_count': name.lower().count('e'),\n",
    "        'i_count': name.lower().count('i'),\n",
    "        'o_count': name.lower().count('o'),\n",
    "        'u_count': name.lower().count('u'),\n",
    "        'starts_ends_same': name[0].lower() == name[-1].lower()\n",
    "    }\n",
    "\n",
    "# Create a DataFrame\n",
    "name_features = [(name, gender, gender_features(name)) for (name, gender) in names]\n",
    "df = pd.DataFrame(name_features, columns=['Name', 'Gender', 'Features'])\n",
    "\n",
    "# Expand the 'Features' column into separate columns\n",
    "features_df = df['Features'].apply(pd.Series)\n",
    "df = pd.concat([df.drop(columns=['Features']), features_df], axis=1)\n",
    "\n",
    "# Split the data into train, dev-test, and test sets\n",
    "train_df = df.iloc[1000:]      # Remaining 6900 samples for training\n",
    "devtest_df = df.iloc[500:1000] # 500 samples for dev-test\n",
    "test_df = df.iloc[:500]        # 500 samples for test\n",
    "\n",
    "print(train_df)"
   ]
  },
  {
   "cell_type": "markdown",
   "id": "e6fc9cd0",
   "metadata": {},
   "source": [
    "### Testing out different functions looking at different gender classifiers and splitting up the original function."
   ]
  },
  {
   "cell_type": "code",
   "execution_count": 28,
   "id": "13d18f92",
   "metadata": {},
   "outputs": [],
   "source": [
    "def gender_features_2(name):\n",
    "    features = {}\n",
    "    features['first_two_letters'] = name[:2]\n",
    "    features['last_two_letters'] = name[-2:]\n",
    "    \n",
    "    return features\n"
   ]
  },
  {
   "cell_type": "code",
   "execution_count": 36,
   "id": "ec91edcf",
   "metadata": {},
   "outputs": [],
   "source": [
    "def gender_features_3(name):\n",
    "    features = {}\n",
    "    features['first_letter'] = name[0]\n",
    "    features['last_letter'] = name[-1]\n",
    "    \n",
    "    return features    \n",
    "        "
   ]
  },
  {
   "cell_type": "code",
   "execution_count": 45,
   "id": "4eef79a0",
   "metadata": {},
   "outputs": [],
   "source": [
    "def gender_features_4(name):\n",
    "    features = {}\n",
    "    features['vowel_count'] = sum(1 for char in name if char in 'aeiouAEIOU')\n",
    "    features['consonant_count'] = sum(1 for char in name if char not in 'aeiouAEIOU')\n",
    "    return features"
   ]
  },
  {
   "cell_type": "code",
   "execution_count": 48,
   "id": "3ee9443c",
   "metadata": {},
   "outputs": [],
   "source": [
    "def gender_features_5(name):\n",
    "    features = {}\n",
    "    features['a_count'] = name.lower().count('a')\n",
    "    features['e_count'] = name.lower().count('e')\n",
    "    return features"
   ]
  },
  {
   "cell_type": "code",
   "execution_count": 11,
   "id": "e8e1160c",
   "metadata": {},
   "outputs": [],
   "source": [
    "def gender_features_6(name):\n",
    "    features = {}\n",
    "    features['i_count'] = name.lower().count('i')\n",
    "    features['o_count'] = name.lower().count('o')\n",
    "    return features"
   ]
  },
  {
   "cell_type": "code",
   "execution_count": 51,
   "id": "b79eb9db",
   "metadata": {},
   "outputs": [],
   "source": [
    "def gender_features_7(name):\n",
    "    features = {}\n",
    "    features['u_count'] = name.lower().count('u')\n",
    "    features['starts_ends_same'] = name[0].lower() == name[-1].lower()\n",
    "    return features"
   ]
  },
  {
   "cell_type": "markdown",
   "id": "fed9a022",
   "metadata": {},
   "source": [
    "### Creating 7 different test, training and dev-test sets"
   ]
  },
  {
   "cell_type": "markdown",
   "id": "279d809a",
   "metadata": {},
   "source": [
    "First set of gender features and its accuracy"
   ]
  },
  {
   "cell_type": "code",
   "execution_count": 41,
   "id": "771bd816",
   "metadata": {},
   "outputs": [],
   "source": [
    "train_names_2 = names[1000:]\n",
    "devtest_names_2 = names[500:1000]\n",
    "test_names_2 = names[:500]"
   ]
  },
  {
   "cell_type": "code",
   "execution_count": 42,
   "id": "a9093c8d",
   "metadata": {},
   "outputs": [
    {
     "name": "stdout",
     "output_type": "stream",
     "text": [
      "0.816\n"
     ]
    }
   ],
   "source": [
    "train_2 = [(gender_features_2(n), g) for (n,g) in train_names_2]\n",
    "devtest_2 =[(gender_features_2(n), g) for (n,g) in devtest_names_2]\n",
    "test_2 = [(gender_features_2(n), g) for (n,g) in test_names_2]\n",
    "classifier_2 = nltk.NaiveBayesClassifier.train(train_2)\n",
    "print(nltk.classify.accuracy(classifier_2, devtest_2))"
   ]
  },
  {
   "cell_type": "markdown",
   "id": "06d630fd",
   "metadata": {},
   "source": [
    "Using the first two letters and last two letters as our gender features yielded a 81.60% accuracy when tested against the dev test file"
   ]
  },
  {
   "cell_type": "markdown",
   "id": "3446ce0b",
   "metadata": {},
   "source": [
    "Second set of gender features and its accuracy"
   ]
  },
  {
   "cell_type": "code",
   "execution_count": 43,
   "id": "d69c5139",
   "metadata": {},
   "outputs": [],
   "source": [
    "train_names_3 = names[1000:]\n",
    "devtest_names_3 = names[500:1000]\n",
    "test_names_3 = names[:500]"
   ]
  },
  {
   "cell_type": "code",
   "execution_count": 44,
   "id": "9367b986",
   "metadata": {},
   "outputs": [
    {
     "name": "stdout",
     "output_type": "stream",
     "text": [
      "0.758\n"
     ]
    }
   ],
   "source": [
    "train_3 = [(gender_features_3(n), g) for (n,g) in train_names_3]\n",
    "devtest_3 =[(gender_features_3(n), g) for (n,g) in devtest_names_3]\n",
    "test_3 = [(gender_features_3(n), g) for (n,g) in test_names_3]\n",
    "classifier_3 = nltk.NaiveBayesClassifier.train(train_3)\n",
    "print(nltk.classify.accuracy(classifier_3, devtest_3))"
   ]
  },
  {
   "cell_type": "markdown",
   "id": "adf3b33b",
   "metadata": {},
   "source": [
    "Using the first and last letters of a name yielded a lower accuracy rate at 75.8% compared to first and last two from above."
   ]
  },
  {
   "cell_type": "markdown",
   "id": "652ffb88",
   "metadata": {},
   "source": [
    "Third set of gender features and accuracy"
   ]
  },
  {
   "cell_type": "code",
   "execution_count": 46,
   "id": "31710c11",
   "metadata": {},
   "outputs": [],
   "source": [
    "train_names_4 = names[1000:]\n",
    "devtest_names_4 = names[500:1000]\n",
    "test_names_4 = names[:500]"
   ]
  },
  {
   "cell_type": "code",
   "execution_count": 47,
   "id": "be52f54d",
   "metadata": {},
   "outputs": [
    {
     "name": "stdout",
     "output_type": "stream",
     "text": [
      "0.656\n"
     ]
    }
   ],
   "source": [
    "train_4 = [(gender_features_4(n), g) for (n,g) in train_names_4]\n",
    "devtest_4 =[(gender_features_4(n), g) for (n,g) in devtest_names_4]\n",
    "test_4 = [(gender_features_4(n), g) for (n,g) in test_names_4]\n",
    "classifier_4 = nltk.NaiveBayesClassifier.train(train_4)\n",
    "print(nltk.classify.accuracy(classifier_4, devtest_4))"
   ]
  },
  {
   "cell_type": "markdown",
   "id": "3b228803",
   "metadata": {},
   "source": [
    "Using constonant and vowel counts to classify gender has so far performed the worst out of the three classifiers as 65.6%."
   ]
  },
  {
   "cell_type": "markdown",
   "id": "01997328",
   "metadata": {},
   "source": [
    "Fourth set of gender features and accuracy"
   ]
  },
  {
   "cell_type": "code",
   "execution_count": 49,
   "id": "7943684c",
   "metadata": {},
   "outputs": [],
   "source": [
    "train_names_5 = names[1000:]\n",
    "devtest_names_5 = names[500:1000]\n",
    "test_names_5 = names[:500]"
   ]
  },
  {
   "cell_type": "code",
   "execution_count": 50,
   "id": "19f95fdb",
   "metadata": {},
   "outputs": [
    {
     "name": "stdout",
     "output_type": "stream",
     "text": [
      "0.62\n"
     ]
    }
   ],
   "source": [
    "train_5 = [(gender_features_5(n), g) for (n,g) in train_names_5]\n",
    "devtest_5 =[(gender_features_5(n), g) for (n,g) in devtest_names_5]\n",
    "test_5 = [(gender_features_5(n), g) for (n,g) in test_names_5]\n",
    "classifier_5 = nltk.NaiveBayesClassifier.train(train_5)\n",
    "print(nltk.classify.accuracy(classifier_5, devtest_5))"
   ]
  },
  {
   "cell_type": "markdown",
   "id": "ee444d85",
   "metadata": {},
   "source": [
    "Again, much worse than the first set of gender features at 62.0%"
   ]
  },
  {
   "cell_type": "markdown",
   "id": "962ae868",
   "metadata": {},
   "source": [
    "Fifth set of gender features and accuracy"
   ]
  },
  {
   "cell_type": "code",
   "execution_count": 53,
   "id": "082e23b3",
   "metadata": {},
   "outputs": [],
   "source": [
    "train_names_6 = names[1000:]\n",
    "devtest_names_6 = names[500:1000]\n",
    "test_names_6 = names[:500]"
   ]
  },
  {
   "cell_type": "code",
   "execution_count": 54,
   "id": "5a4f241a",
   "metadata": {},
   "outputs": [
    {
     "name": "stdout",
     "output_type": "stream",
     "text": [
      "0.634\n"
     ]
    }
   ],
   "source": [
    "train_6 = [(gender_features_6(n), g) for (n,g) in train_names_6]\n",
    "devtest_6 =[(gender_features_6(n), g) for (n,g) in devtest_names_6]\n",
    "test_6 = [(gender_features_6(n), g) for (n,g) in test_names_6]\n",
    "classifier_6 = nltk.NaiveBayesClassifier.train(train_6)\n",
    "print(nltk.classify.accuracy(classifier_6, devtest_6))"
   ]
  },
  {
   "cell_type": "markdown",
   "id": "2c637e57",
   "metadata": {},
   "source": [
    "Using individual counts of different vowels does not seem to be working, we will try one more set of features for consistency. But given the previous performance of other singled out vowel counts I do not expect this to be much better."
   ]
  },
  {
   "cell_type": "code",
   "execution_count": 55,
   "id": "f1ca4312",
   "metadata": {},
   "outputs": [],
   "source": [
    "train_names_7 = names[1000:]\n",
    "devtest_names_7 = names[500:1000]\n",
    "test_names_7 = names[:500]"
   ]
  },
  {
   "cell_type": "code",
   "execution_count": 56,
   "id": "ff261d70",
   "metadata": {},
   "outputs": [
    {
     "name": "stdout",
     "output_type": "stream",
     "text": [
      "0.638\n"
     ]
    }
   ],
   "source": [
    "train_7 = [(gender_features_7(n), g) for (n,g) in train_names_7]\n",
    "devtest_7 =[(gender_features_7(n), g) for (n,g) in devtest_names_7]\n",
    "test_7 = [(gender_features_7(n), g) for (n,g) in test_names_7]\n",
    "classifier_7 = nltk.NaiveBayesClassifier.train(train_7)\n",
    "print(nltk.classify.accuracy(classifier_7, devtest_7))"
   ]
  },
  {
   "cell_type": "markdown",
   "id": "8a5e0b97",
   "metadata": {},
   "source": [
    "As expected the final set of features did not produce anything better than the first two letters and last two letters of a name."
   ]
  },
  {
   "cell_type": "markdown",
   "id": "71b3dd6d",
   "metadata": {},
   "source": [
    "### Run the dev-test and compare it to test"
   ]
  },
  {
   "cell_type": "code",
   "execution_count": 57,
   "id": "06b0c16e",
   "metadata": {},
   "outputs": [
    {
     "name": "stdout",
     "output_type": "stream",
     "text": [
      "0.816\n"
     ]
    }
   ],
   "source": [
    "\n",
    "print(nltk.classify.accuracy(classifier_2, devtest_2))"
   ]
  },
  {
   "cell_type": "code",
   "execution_count": 58,
   "id": "312103a0",
   "metadata": {},
   "outputs": [
    {
     "name": "stdout",
     "output_type": "stream",
     "text": [
      "0.8\n"
     ]
    }
   ],
   "source": [
    "print(nltk.classify.accuracy(classifier_2, test_2))"
   ]
  },
  {
   "cell_type": "markdown",
   "id": "bb2c69ac",
   "metadata": {},
   "source": [
    "### Final Analysis"
   ]
  },
  {
   "cell_type": "markdown",
   "id": "afe8c45b",
   "metadata": {},
   "source": [
    "1. How does the performance on the test set compare to the performance on the dev-test set?\n",
    "2. Is this what you'd expect?"
   ]
  },
  {
   "cell_type": "markdown",
   "id": "555f92cd",
   "metadata": {},
   "source": [
    "As stated in the textbook, having a separate test set and dev-test set is crucial to keeping analysis in line. Known as the development set the training data and dev-test data are split out before setting the official test dataset. The dev-test dataset performes only a slight magnitude better than the official test dataset. One reason for this could be an unscene offset in the test df and the dev df. One possible way around this could be by randomly splitting out this data and retesting. An alternative is making this dataset bigger, lessening the issue with overfitting in the dev-test set. However because the dataset consists only of names we really did not expect to see much of a difference in the accuracy of the test and dev datasets."
   ]
  },
  {
   "cell_type": "markdown",
   "id": "ad2a7970",
   "metadata": {},
   "source": [
    "Using code from the book (p.226) we can also evaluate the errors generated from the gender classifier"
   ]
  },
  {
   "cell_type": "code",
   "execution_count": 61,
   "id": "0ca43b04",
   "metadata": {},
   "outputs": [],
   "source": [
    "errors = []\n",
    "for (name, tag) in devtest_names_2:\n",
    "    guess = classifier_2.classify(gender_features_2(name))\n",
    "    if guess != tag:\n",
    "        errors.append( (tag, guess, name) )"
   ]
  },
  {
   "cell_type": "code",
   "execution_count": 62,
   "id": "a0b019c8",
   "metadata": {},
   "outputs": [
    {
     "name": "stdout",
     "output_type": "stream",
     "text": [
      "correct=female   guess=male     name=Agnes                         \n",
      "correct=female   guess=male     name=Brook                         \n",
      "correct=female   guess=male     name=Clair                         \n",
      "correct=female   guess=male     name=Cloris                        \n",
      "correct=female   guess=male     name=Devon                         \n",
      "correct=female   guess=male     name=Dion                          \n",
      "correct=female   guess=male     name=Easter                        \n",
      "correct=female   guess=male     name=Edin                          \n",
      "correct=female   guess=male     name=Gredel                        \n",
      "correct=female   guess=male     name=Haily                         \n",
      "correct=female   guess=male     name=Hedwig                        \n",
      "correct=female   guess=male     name=Helen                         \n",
      "correct=female   guess=male     name=Honey                         \n",
      "correct=female   guess=male     name=Imojean                       \n",
      "correct=female   guess=male     name=Jessalin                      \n",
      "correct=female   guess=male     name=Joan                          \n",
      "correct=female   guess=male     name=Jocelin                       \n",
      "correct=female   guess=male     name=Monique                       \n",
      "correct=female   guess=male     name=Moreen                        \n",
      "correct=female   guess=male     name=Myriam                        \n",
      "correct=female   guess=male     name=Pat                           \n",
      "correct=female   guess=male     name=Piper                         \n",
      "correct=female   guess=male     name=Quinn                         \n",
      "correct=female   guess=male     name=Raven                         \n",
      "correct=female   guess=male     name=Renell                        \n",
      "correct=female   guess=male     name=Rhianon                       \n",
      "correct=female   guess=male     name=Rubie                         \n",
      "correct=female   guess=male     name=Ruthie                        \n",
      "correct=female   guess=male     name=Shanon                        \n",
      "correct=female   guess=male     name=Storey                        \n",
      "correct=female   guess=male     name=Terri-Jo                      \n",
      "correct=female   guess=male     name=Tove                          \n",
      "correct=male     guess=female   name=Adolfo                        \n",
      "correct=male     guess=female   name=Alfie                         \n",
      "correct=male     guess=female   name=Anatole                       \n",
      "correct=male     guess=female   name=Antonin                       \n",
      "correct=male     guess=female   name=Ave                           \n",
      "correct=male     guess=female   name=Bealle                        \n",
      "correct=male     guess=female   name=Benny                         \n",
      "correct=male     guess=female   name=Chariot                       \n",
      "correct=male     guess=female   name=Chaunce                       \n",
      "correct=male     guess=female   name=Christophe                    \n",
      "correct=male     guess=female   name=Chrisy                        \n",
      "correct=male     guess=female   name=Clare                         \n",
      "correct=male     guess=female   name=Davie                         \n",
      "correct=male     guess=female   name=Davis                         \n",
      "correct=male     guess=female   name=Dennis                        \n",
      "correct=male     guess=female   name=Dionis                        \n",
      "correct=male     guess=female   name=Doyle                         \n",
      "correct=male     guess=female   name=Ellsworth                     \n",
      "correct=male     guess=female   name=Emery                         \n",
      "correct=male     guess=female   name=Etienne                       \n",
      "correct=male     guess=female   name=Eustace                       \n",
      "correct=male     guess=female   name=Fazeel                        \n",
      "correct=male     guess=female   name=Gayle                         \n",
      "correct=male     guess=female   name=Grady                         \n",
      "correct=male     guess=female   name=Herculie                      \n",
      "correct=male     guess=female   name=Hermann                       \n",
      "correct=male     guess=female   name=Holly                         \n",
      "correct=male     guess=female   name=Isa                           \n",
      "correct=male     guess=female   name=Jere                          \n",
      "correct=male     guess=female   name=Jeth                          \n",
      "correct=male     guess=female   name=Jimbo                         \n",
      "correct=male     guess=female   name=Joshua                        \n",
      "correct=male     guess=female   name=Jule                          \n",
      "correct=male     guess=female   name=Kane                          \n",
      "correct=male     guess=female   name=Kendal                        \n",
      "correct=male     guess=female   name=Lefty                         \n",
      "correct=male     guess=female   name=Leif                          \n",
      "correct=male     guess=female   name=Loren                         \n",
      "correct=male     guess=female   name=Louie                         \n",
      "correct=male     guess=female   name=Marshall                      \n",
      "correct=male     guess=female   name=Matthieu                      \n",
      "correct=male     guess=female   name=Micheal                       \n",
      "correct=male     guess=female   name=Morlee                        \n",
      "correct=male     guess=female   name=Norm                          \n",
      "correct=male     guess=female   name=Oral                          \n",
      "correct=male     guess=female   name=Paddy                         \n",
      "correct=male     guess=female   name=Pearce                        \n",
      "correct=male     guess=female   name=Randy                         \n",
      "correct=male     guess=female   name=Reese                         \n",
      "correct=male     guess=female   name=Somerset                      \n",
      "correct=male     guess=female   name=Tammie                        \n",
      "correct=male     guess=female   name=Temple                        \n",
      "correct=male     guess=female   name=Timothy                       \n",
      "correct=male     guess=female   name=Tracie                        \n",
      "correct=male     guess=female   name=Tre                           \n",
      "correct=male     guess=female   name=Tremayne                      \n",
      "correct=male     guess=female   name=Uriah                         \n",
      "correct=male     guess=female   name=Valentine                     \n",
      "correct=male     guess=female   name=Vinny                         \n",
      "correct=male     guess=female   name=Zedekiah                      \n"
     ]
    }
   ],
   "source": [
    "for (tag, guess, name) in sorted(errors):\n",
    "    print('correct=%-8s guess=%-8s name=%-30s' % (tag, guess, name))"
   ]
  },
  {
   "cell_type": "markdown",
   "id": "7a87c0cc",
   "metadata": {},
   "source": [
    "We can also get the total amount of correct and incorrect guesses using this code"
   ]
  },
  {
   "cell_type": "code",
   "execution_count": 63,
   "id": "482124f2",
   "metadata": {},
   "outputs": [
    {
     "name": "stdout",
     "output_type": "stream",
     "text": [
      "correct=female   guess=male     name=Agnes                         \n",
      "correct=female   guess=male     name=Brook                         \n",
      "correct=female   guess=male     name=Clair                         \n",
      "correct=female   guess=male     name=Cloris                        \n",
      "correct=female   guess=male     name=Devon                         \n",
      "correct=female   guess=male     name=Dion                          \n",
      "correct=female   guess=male     name=Easter                        \n",
      "correct=female   guess=male     name=Edin                          \n",
      "correct=female   guess=male     name=Gredel                        \n",
      "correct=female   guess=male     name=Haily                         \n",
      "correct=female   guess=male     name=Hedwig                        \n",
      "correct=female   guess=male     name=Helen                         \n",
      "correct=female   guess=male     name=Honey                         \n",
      "correct=female   guess=male     name=Imojean                       \n",
      "correct=female   guess=male     name=Jessalin                      \n",
      "correct=female   guess=male     name=Joan                          \n",
      "correct=female   guess=male     name=Jocelin                       \n",
      "correct=female   guess=male     name=Monique                       \n",
      "correct=female   guess=male     name=Moreen                        \n",
      "correct=female   guess=male     name=Myriam                        \n",
      "correct=female   guess=male     name=Pat                           \n",
      "correct=female   guess=male     name=Piper                         \n",
      "correct=female   guess=male     name=Quinn                         \n",
      "correct=female   guess=male     name=Raven                         \n",
      "correct=female   guess=male     name=Renell                        \n",
      "correct=female   guess=male     name=Rhianon                       \n",
      "correct=female   guess=male     name=Rubie                         \n",
      "correct=female   guess=male     name=Ruthie                        \n",
      "correct=female   guess=male     name=Shanon                        \n",
      "correct=female   guess=male     name=Storey                        \n",
      "correct=female   guess=male     name=Terri-Jo                      \n",
      "correct=female   guess=male     name=Tove                          \n",
      "correct=male     guess=female   name=Adolfo                        \n",
      "correct=male     guess=female   name=Alfie                         \n",
      "correct=male     guess=female   name=Anatole                       \n",
      "correct=male     guess=female   name=Antonin                       \n",
      "correct=male     guess=female   name=Ave                           \n",
      "correct=male     guess=female   name=Bealle                        \n",
      "correct=male     guess=female   name=Benny                         \n",
      "correct=male     guess=female   name=Chariot                       \n",
      "correct=male     guess=female   name=Chaunce                       \n",
      "correct=male     guess=female   name=Christophe                    \n",
      "correct=male     guess=female   name=Chrisy                        \n",
      "correct=male     guess=female   name=Clare                         \n",
      "correct=male     guess=female   name=Davie                         \n",
      "correct=male     guess=female   name=Davis                         \n",
      "correct=male     guess=female   name=Dennis                        \n",
      "correct=male     guess=female   name=Dionis                        \n",
      "correct=male     guess=female   name=Doyle                         \n",
      "correct=male     guess=female   name=Ellsworth                     \n",
      "correct=male     guess=female   name=Emery                         \n",
      "correct=male     guess=female   name=Etienne                       \n",
      "correct=male     guess=female   name=Eustace                       \n",
      "correct=male     guess=female   name=Fazeel                        \n",
      "correct=male     guess=female   name=Gayle                         \n",
      "correct=male     guess=female   name=Grady                         \n",
      "correct=male     guess=female   name=Herculie                      \n",
      "correct=male     guess=female   name=Hermann                       \n",
      "correct=male     guess=female   name=Holly                         \n",
      "correct=male     guess=female   name=Isa                           \n",
      "correct=male     guess=female   name=Jere                          \n",
      "correct=male     guess=female   name=Jeth                          \n",
      "correct=male     guess=female   name=Jimbo                         \n",
      "correct=male     guess=female   name=Joshua                        \n",
      "correct=male     guess=female   name=Jule                          \n",
      "correct=male     guess=female   name=Kane                          \n",
      "correct=male     guess=female   name=Kendal                        \n",
      "correct=male     guess=female   name=Lefty                         \n",
      "correct=male     guess=female   name=Leif                          \n",
      "correct=male     guess=female   name=Loren                         \n",
      "correct=male     guess=female   name=Louie                         \n",
      "correct=male     guess=female   name=Marshall                      \n",
      "correct=male     guess=female   name=Matthieu                      \n",
      "correct=male     guess=female   name=Micheal                       \n",
      "correct=male     guess=female   name=Morlee                        \n",
      "correct=male     guess=female   name=Norm                          \n",
      "correct=male     guess=female   name=Oral                          \n",
      "correct=male     guess=female   name=Paddy                         \n",
      "correct=male     guess=female   name=Pearce                        \n",
      "correct=male     guess=female   name=Randy                         \n",
      "correct=male     guess=female   name=Reese                         \n",
      "correct=male     guess=female   name=Somerset                      \n",
      "correct=male     guess=female   name=Tammie                        \n",
      "correct=male     guess=female   name=Temple                        \n",
      "correct=male     guess=female   name=Timothy                       \n",
      "correct=male     guess=female   name=Tracie                        \n",
      "correct=male     guess=female   name=Tre                           \n",
      "correct=male     guess=female   name=Tremayne                      \n",
      "correct=male     guess=female   name=Uriah                         \n",
      "correct=male     guess=female   name=Valentine                     \n",
      "correct=male     guess=female   name=Vinny                         \n",
      "correct=male     guess=female   name=Zedekiah                      \n",
      "Correct guesses: 0\n",
      "Incorrect guesses: 92\n"
     ]
    }
   ],
   "source": [
    "correct_guesses = 0\n",
    "incorrect_guesses = 0\n",
    "\n",
    "for (tag, guess, name) in sorted(errors):\n",
    "    print('correct=%-8s guess=%-8s name=%-30s' % (tag, guess, name))\n",
    "    if tag == guess:\n",
    "        correct_guesses += 1\n",
    "    else:\n",
    "        incorrect_guesses += 1\n",
    "\n",
    "print(f'Correct guesses: {correct_guesses}')\n",
    "print(f'Incorrect guesses: {incorrect_guesses}')"
   ]
  },
  {
   "cell_type": "markdown",
   "id": "c4df5812",
   "metadata": {},
   "source": [
    "In the case of the error dataset, we are only going to generate incorrect guesses"
   ]
  }
 ],
 "metadata": {
  "kernelspec": {
   "display_name": "Python 3 (ipykernel)",
   "language": "python",
   "name": "python3"
  },
  "language_info": {
   "codemirror_mode": {
    "name": "ipython",
    "version": 3
   },
   "file_extension": ".py",
   "mimetype": "text/x-python",
   "name": "python",
   "nbconvert_exporter": "python",
   "pygments_lexer": "ipython3",
   "version": "3.7.16"
  }
 },
 "nbformat": 4,
 "nbformat_minor": 5
}
