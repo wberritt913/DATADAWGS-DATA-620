{
 "cells": [
  {
   "cell_type": "markdown",
   "id": "d6d224ce-336d-4540-bb31-4751214b6934",
   "metadata": {
    "scrolled": true
   },
   "source": [
    "We will use the Facebook Social Network dataset from the Stanford Network Analysis Project (SNAP). The dataset contains undirected edges representing friendships between users.\n",
    "\n",
    "# Group Members:\n",
    "- Chafiaa Nadour\n",
    "- Jonathan Burns\n",
    "- Will Berritt\n",
    "\n",
    "# Methodology\n",
    "## 1. Data Loading and Preprocessing:\n",
    "- Load the Facebook Social Network dataset.\n",
    "- Preprocess the data to create a graph using NetworkX.\n",
    "## 2. Basic Network Statistics:\n",
    "- Calculate the number of nodes and edges.\n",
    "- Visualize a sampled subset of the network to understand its structure.\n",
    "## 3. Centrality Measures:\n",
    "- Compute degree centrality to identify users with the most connections.\n",
    "- Compute betweenness centrality to find users who act as bridges between different parts of the network.\n",
    "- Analyze the correlation between different centrality measures to understand their relationship.\n",
    "## 4. Clustering Coefficient:\n",
    "- Compute the clustering coefficient for each user to measure the degree of clustering in the network.\n",
    "- Identify users with high clustering coefficients who are part of tightly-knit communities.\n",
    "## 5. Community Detection:\n",
    "- Apply the Girvan-Newman algorithm to detect communities within the network.\n",
    "- Visualize the detected communities using community coloring.\n",
    "- Explore other community detection algorithms like the Louvain method if applicable.\n",
    "## 6. Additional Analysis:\n",
    "- Compute the average shortest path length to understand the efficiency of information spread in the network.\n",
    "- Perform k-core decomposition to find the most interconnected subgroups within the network.\n",
    "-  Conduct statistical analysis to compare centrality measures and clustering coefficients between detected communities.\n",
    "## Upfront Concerns\n",
    "- Computational Complexity: Handling large networks can be computationally intensive, especially for centrality and community detection algorithms.\n",
    "- Data Quality: Ensuring the dataset is free from errors and accurately represents the Facebook network.\n",
    "- Interpretation of Results: Properly interpreting the results to provide meaningful insights rather than just statistical outputs.\n",
    "## Roles and Responsibilities (if working in a group)\n",
    "- Data Engineer: Responsible for data loading, preprocessing, and ensuring data quality.\n",
    "- Network Analyst: Focuses on calculating centrality measures, clustering coefficients, and interpreting these metrics.\n",
    "- Community Detection Specialist: Applies and fine-tunes community detection algorithms, visualizes communities, and interprets the results.\n",
    "- Project Manager: Coordinates tasks, ensures timely progress, and compiles the final report.\n",
    "- <i>Everyone will either directly contribute in one of these areas or serve as QA engineers.</i>"
   ]
  },
  {
   "cell_type": "code",
   "execution_count": null,
   "id": "759cdb72-cac1-431e-855b-fec15f9d1b4f",
   "metadata": {},
   "outputs": [],
   "source": []
  }
 ],
 "metadata": {
  "kernelspec": {
   "display_name": "Python 3 (ipykernel)",
   "language": "python",
   "name": "python3"
  },
  "language_info": {
   "codemirror_mode": {
    "name": "ipython",
    "version": 3
   },
   "file_extension": ".py",
   "mimetype": "text/x-python",
   "name": "python",
   "nbconvert_exporter": "python",
   "pygments_lexer": "ipython3",
   "version": "3.11.7"
  }
 },
 "nbformat": 4,
 "nbformat_minor": 5
}
