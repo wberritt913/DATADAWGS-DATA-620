{
 "cells": [
  {
   "cell_type": "code",
   "execution_count": 24,
   "id": "d5aa4e42-2b42-4160-b914-fe145c7b03ba",
   "metadata": {},
   "outputs": [],
   "source": [
    "##Loading the Data:\n",
    "\n",
    "import pandas as pd\n",
    "import numpy as np\n",
    "import networkx as nx\n",
    "import matplotlib.pyplot as plt\n",
    "\n",
    "node_edge_path = \"C:/Users/Chafiaa/Downloads/soc-political-retweet.edges\"\n",
    "node_edge_data = pd.read_csv(node_edge_path, sep=',', header=None, names=['node', 'edge', 'weight'])\n",
    "\n",
    "node_label_path = \"C:/Users/Chafiaa/Downloads/soc-political-retweet.node_labels\"\n",
    "node_label_data = pd.read_csv(node_label_path, sep=',', header=None, names=['node', 'category'])\n"
   ]
  },
  {
   "cell_type": "code",
   "execution_count": 25,
   "id": "b2fc2644-df86-4047-a22f-8218360b0868",
   "metadata": {},
   "outputs": [],
   "source": [
    "# Merge DataFrames\n",
    "merged_data = node_edge_data.merge(node_label_data, left_on='node', right_on='node', how='left')\n",
    "\n",
    "# Create the graph from merged data, assuming 'source' and 'target' are the edge columns\n",
    "# and 'label' is the column with node labels\n",
    "G = nx.from_pandas_edgelist(merged_data, 'node', 'edge', 'category')\n",
    "\n",
    "# Add node labels as attributes\n",
    "for _, row in merged_data.iterrows():\n",
    "    G.nodes[row['node']]['category'] = row['category']"
   ]
  },
  {
   "cell_type": "code",
   "execution_count": 26,
   "id": "42d6c17e-a973-4185-ad7e-8d8ab58bf32e",
   "metadata": {},
   "outputs": [
    {
     "data": {
      "text/html": [
       "<div>\n",
       "<style scoped>\n",
       "    .dataframe tbody tr th:only-of-type {\n",
       "        vertical-align: middle;\n",
       "    }\n",
       "\n",
       "    .dataframe tbody tr th {\n",
       "        vertical-align: top;\n",
       "    }\n",
       "\n",
       "    .dataframe thead th {\n",
       "        text-align: right;\n",
       "    }\n",
       "</style>\n",
       "<table border=\"1\" class=\"dataframe\">\n",
       "  <thead>\n",
       "    <tr style=\"text-align: right;\">\n",
       "      <th></th>\n",
       "      <th>node</th>\n",
       "      <th>edge</th>\n",
       "      <th>weight</th>\n",
       "      <th>category</th>\n",
       "    </tr>\n",
       "  </thead>\n",
       "  <tbody>\n",
       "    <tr>\n",
       "      <th>0</th>\n",
       "      <td>12464</td>\n",
       "      <td>7349</td>\n",
       "      <td>1286901355</td>\n",
       "      <td>1</td>\n",
       "    </tr>\n",
       "    <tr>\n",
       "      <th>1</th>\n",
       "      <td>6820</td>\n",
       "      <td>12569</td>\n",
       "      <td>1287988962</td>\n",
       "      <td>2</td>\n",
       "    </tr>\n",
       "    <tr>\n",
       "      <th>2</th>\n",
       "      <td>4336</td>\n",
       "      <td>15967</td>\n",
       "      <td>1286535938</td>\n",
       "      <td>1</td>\n",
       "    </tr>\n",
       "  </tbody>\n",
       "</table>\n",
       "</div>"
      ],
      "text/plain": [
       "    node   edge      weight  category\n",
       "0  12464   7349  1286901355         1\n",
       "1   6820  12569  1287988962         2\n",
       "2   4336  15967  1286535938         1"
      ]
     },
     "execution_count": 26,
     "metadata": {},
     "output_type": "execute_result"
    }
   ],
   "source": [
    "merged_data.head(3)"
   ]
  },
  {
   "cell_type": "code",
   "execution_count": 27,
   "id": "38b3687a-1719-4876-ad0f-86ae2b9756e9",
   "metadata": {},
   "outputs": [
    {
     "name": "stdout",
     "output_type": "stream",
     "text": [
      "Graph with 18470 nodes and 48053 edges\n"
     ]
    }
   ],
   "source": [
    "print(G)"
   ]
  },
  {
   "cell_type": "code",
   "execution_count": 28,
   "id": "459267bf-4ce5-4877-839b-1af0225c0fe4",
   "metadata": {},
   "outputs": [],
   "source": [
    "##Create NetworkX Graph Object\n",
    "weight_nodes = merged_data[['node','edge','weight','category']].drop_duplicates().sort_values(by='node')\n",
    "G = nx.Graph()\n",
    "G.add_nodes_from(merged_data['weight'], bipartite=0)\n",
    "G.add_nodes_from(merged_data['category'], bipartite=1)\n",
    "G.add_weighted_edges_from([tuple(d) for d in merged_data[['weight','category','node']].values])"
   ]
  },
  {
   "cell_type": "code",
   "execution_count": 29,
   "id": "0fe44711-9c12-436d-9051-983dce02b058",
   "metadata": {},
   "outputs": [
    {
     "data": {
      "text/plain": [
       "[(1, {'bipartite': 1}), (2, {'bipartite': 1})]"
      ]
     },
     "execution_count": 29,
     "metadata": {},
     "output_type": "execute_result"
    }
   ],
   "source": [
    "list(G.nodes(data=True))[:3]\n",
    "list(G.nodes(data=True))[-2:]"
   ]
  },
  {
   "cell_type": "code",
   "execution_count": 30,
   "id": "2e1ce32b-f81b-4e0f-b28f-bf6405bf7b31",
   "metadata": {},
   "outputs": [],
   "source": [
    "##Set 'Top' and 'Bottom' Nodes:\n",
    "weight_nodes = {n for n, d in G.nodes(data=True) if d['bipartite']==0}\n",
    "weight_nodes = set(G) - weight_nodes"
   ]
  },
  {
   "cell_type": "code",
   "execution_count": 31,
   "id": "666d0ac6-88eb-4a25-96db-78d7e9482385",
   "metadata": {},
   "outputs": [
    {
     "name": "stdout",
     "output_type": "stream",
     "text": [
      "0.5025123551676832\n"
     ]
    }
   ],
   "source": [
    "print(bi.density(G, weight_nodes))"
   ]
  },
  {
   "cell_type": "code",
   "execution_count": 32,
   "id": "9d402105-deb4-48fc-8ca1-21734a20a3c1",
   "metadata": {},
   "outputs": [],
   "source": [
    "def set_colors(G):\n",
    "    colors = []\n",
    "    for node, data in G.nodes(data=True):\n",
    "        if data['bipartite'] == 1: \n",
    "            colors.append('olivedrab')   \n",
    "        else:\n",
    "            colors.append('cornflowerblue') \n",
    "    return colors"
   ]
  },
  {
   "cell_type": "code",
   "execution_count": null,
   "id": "95e07b8f-ddfc-4166-9ffe-14884af6e2a8",
   "metadata": {},
   "outputs": [],
   "source": [
    "plt.rcParams[\"figure.figsize\"] = (15,15) # set plot size\n",
    "colors = set_colors(G)  # set colors\n",
    "#weights = [math.log(edata['attr_dict'][200]) for f, t, edata in G0.edges(data=True)] # set weights\n",
    "\n",
    "nx.draw(G, with_labels=True, node_color=colors, node_size=200, \n",
    "        font_size=10, font_weight='bold', edge_color=\"skyblue\", alpha=0.5)"
   ]
  },
  {
   "cell_type": "code",
   "execution_count": null,
   "id": "f0702be4-b728-4756-af0e-25154e3ae899",
   "metadata": {},
   "outputs": [],
   "source": []
  }
 ],
 "metadata": {
  "kernelspec": {
   "display_name": "Python 3 (ipykernel)",
   "language": "python",
   "name": "python3"
  },
  "language_info": {
   "codemirror_mode": {
    "name": "ipython",
    "version": 3
   },
   "file_extension": ".py",
   "mimetype": "text/x-python",
   "name": "python",
   "nbconvert_exporter": "python",
   "pygments_lexer": "ipython3",
   "version": "3.11.7"
  }
 },
 "nbformat": 4,
 "nbformat_minor": 5
}
